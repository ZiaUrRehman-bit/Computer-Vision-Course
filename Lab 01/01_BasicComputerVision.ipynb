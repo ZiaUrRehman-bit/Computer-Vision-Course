{
 "cells": [
  {
   "attachments": {},
   "cell_type": "markdown",
   "metadata": {},
   "source": [
    "## **<center><font style=\"color:rgb(100,109,254)\">Digital Image Processing Basics</font> </center>**\n",
    "### **<center><font style=\"color:rgb(100,109,254)\">Lab 01</font> </center>**\n"
   ]
  },
  {
   "attachments": {},
   "cell_type": "markdown",
   "metadata": {},
   "source": [
    "****"
   ]
  },
  {
   "attachments": {},
   "cell_type": "markdown",
   "metadata": {},
   "source": [
    "### **<font style=\"color:rgb(255,0,255)\">01. Basics of OpenCV</font>**\n",
    "\n",
    "**OpenCV: Open Source Computer Vision library to implement image processing**\n",
    "\n",
    "In openCV we use arrays to store an image and Numpy library is used to handle arrays, image always store in 2D array\n",
    "\n",
    "**Images types**\n",
    "    \n",
    "Gray scale Image: Single channel\n",
    "\n",
    "True Color Image: RGB, BGR in Python, 3 channel\n",
    "\n",
    "Binary Image: 1 bit, 0 or 1 black or white"
   ]
  },
  {
   "attachments": {},
   "cell_type": "markdown",
   "metadata": {},
   "source": [
    "**Functions for Images in Python**"
   ]
  },
  {
   "cell_type": "code",
   "execution_count": 1,
   "metadata": {},
   "outputs": [
    {
     "name": "stdout",
     "output_type": "stream",
     "text": [
      "4.6.0\n"
     ]
    }
   ],
   "source": [
    "import cv2    # OpenCV used as cv2 in python\n",
    "import matplotlib.pyplot as plt # to plot inside \n",
    "print(cv2.__version__)"
   ]
  },
  {
   "attachments": {},
   "cell_type": "markdown",
   "metadata": {},
   "source": [
    "****"
   ]
  },
  {
   "attachments": {},
   "cell_type": "markdown",
   "metadata": {},
   "source": [
    "**Read an image and display**"
   ]
  },
  {
   "cell_type": "code",
   "execution_count": null,
   "metadata": {},
   "outputs": [],
   "source": [
    "path = \"C:\\\\Users\\\\hp\\\\Google Drive\\\\Fiverr Work\\\\2022\\\\33. Computer Vision Course\\\\pictures\"\n"
   ]
  },
  {
   "cell_type": "code",
   "execution_count": null,
   "metadata": {},
   "outputs": [],
   "source": [
    "img = cv2.imread(path+\"\\\\coloredChips.png\")  # took path and name of image as an argument"
   ]
  },
  {
   "cell_type": "code",
   "execution_count": null,
   "metadata": {},
   "outputs": [],
   "source": [
    "print(img)"
   ]
  },
  {
   "cell_type": "code",
   "execution_count": null,
   "metadata": {},
   "outputs": [],
   "source": [
    "cv2.imshow(\"Image\", img)\n",
    "cv2.waitKey(0)\n",
    "cv2.destroyAllWindows()"
   ]
  },
  {
   "cell_type": "code",
   "execution_count": null,
   "metadata": {},
   "outputs": [],
   "source": [
    "# Display image using matplotlib\n",
    "plt.figure(figsize=[10,10])\n",
    "plt.imshow(img)\n",
    "plt.title(\"Image\")\n",
    "plt.axis(\"off\")"
   ]
  },
  {
   "attachments": {},
   "cell_type": "markdown",
   "metadata": {},
   "source": [
    "****"
   ]
  },
  {
   "attachments": {},
   "cell_type": "markdown",
   "metadata": {},
   "source": [
    "**Resize image**"
   ]
  },
  {
   "cell_type": "code",
   "execution_count": null,
   "metadata": {},
   "outputs": [],
   "source": [
    "img_new = cv2.resize(img, (200, 200))"
   ]
  },
  {
   "cell_type": "code",
   "execution_count": null,
   "metadata": {},
   "outputs": [],
   "source": [
    "plt.figure(1)\n",
    "plt.imshow(img_new)\n",
    "plt.title(\"Resized Image\")\n",
    "plt.axis(\"off\")"
   ]
  },
  {
   "cell_type": "code",
   "execution_count": null,
   "metadata": {},
   "outputs": [],
   "source": [
    "cv2.imshow(\"Image\", img)\n",
    "cv2.imshow(\"NewImage\", img_new)\n",
    "cv2.waitKey(0)\n",
    "cv2.destroyAllWindows()"
   ]
  },
  {
   "attachments": {},
   "cell_type": "markdown",
   "metadata": {},
   "source": [
    "****"
   ]
  },
  {
   "attachments": {},
   "cell_type": "markdown",
   "metadata": {},
   "source": [
    "**Read image in grayscale**"
   ]
  },
  {
   "cell_type": "code",
   "execution_count": null,
   "metadata": {},
   "outputs": [],
   "source": [
    "img1 = cv2.imread(path +\"\\\\coloredChips.png\", 0)  # 0 means in grayscale"
   ]
  },
  {
   "cell_type": "code",
   "execution_count": null,
   "metadata": {},
   "outputs": [],
   "source": [
    "cv2.imshow(\"Image1\", img1)\n",
    "cv2.waitKey(0)\n",
    "cv2.destroyAllWindows()"
   ]
  },
  {
   "attachments": {},
   "cell_type": "markdown",
   "metadata": {},
   "source": [
    "*****"
   ]
  },
  {
   "attachments": {},
   "cell_type": "markdown",
   "metadata": {},
   "source": [
    "**Flip the image**"
   ]
  },
  {
   "cell_type": "code",
   "execution_count": null,
   "metadata": {},
   "outputs": [],
   "source": [
    "img = cv2.imread(path+\"\\\\football.jpg\")\n",
    "cv2.imshow(\"fliped image\", cv2.flip(img, 1))  # it take parameters 0,-1,1\n",
    "cv2.waitKey(0)\n",
    "cv2.destroyAllWindows()"
   ]
  },
  {
   "attachments": {},
   "cell_type": "markdown",
   "metadata": {},
   "source": [
    "****"
   ]
  },
  {
   "attachments": {},
   "cell_type": "markdown",
   "metadata": {},
   "source": [
    "**Convert image to grayscale and save in current directory**"
   ]
  },
  {
   "cell_type": "code",
   "execution_count": null,
   "metadata": {},
   "outputs": [],
   "source": [
    "import os \n",
    "\n",
    "img2 = cv2.imread(path+\"\\\\football.jpg\", 0)  # 0 means in grayscale\n",
    "cv2.imshow(\"Image2\", img2)\n",
    "\n",
    "k = cv2.waitKey()  # waits untill key press or wait for particular miliseocds time\n",
    "if k == ord('s'):\n",
    "    os.chdir(\"C:/Users/hp/Google Drive/Fiverr Work/2022/33. Computer Vision Course/pictures\")\n",
    "    cv2.imwrite('output.png', img2)\n",
    "    cv2.destroyAllWindows()\n",
    "else:\n",
    "    cv2.destroyAllWindows()"
   ]
  },
  {
   "attachments": {},
   "cell_type": "markdown",
   "metadata": {},
   "source": [
    "****"
   ]
  },
  {
   "attachments": {},
   "cell_type": "markdown",
   "metadata": {},
   "source": [
    "**Import video**"
   ]
  },
  {
   "cell_type": "code",
   "execution_count": null,
   "metadata": {},
   "outputs": [],
   "source": [
    "\n",
    "cap = cv2.VideoCapture(path+\"\\\\traffic.avi\")\n",
    "\n",
    "print(cap)"
   ]
  },
  {
   "cell_type": "code",
   "execution_count": null,
   "metadata": {},
   "outputs": [],
   "source": [
    "while True:\n",
    "    success, frame = cap.read()\n",
    "    \n",
    "    cv2.imshow('video', frame)\n",
    "    key = cv2.waitKey(100)\n",
    "    \n",
    "    if key == ord('q'):\n",
    "        break\n",
    "\n",
    "cap.release()\n",
    "cv2.destroyAllWindows()"
   ]
  },
  {
   "cell_type": "code",
   "execution_count": null,
   "metadata": {},
   "outputs": [],
   "source": [
    "cv2.destroyAllWindows()"
   ]
  },
  {
   "attachments": {},
   "cell_type": "markdown",
   "metadata": {},
   "source": [
    "***"
   ]
  },
  {
   "attachments": {},
   "cell_type": "markdown",
   "metadata": {},
   "source": [
    "**How to use webcam**"
   ]
  },
  {
   "cell_type": "code",
   "execution_count": null,
   "metadata": {},
   "outputs": [],
   "source": [
    "import cv2\n",
    "\n",
    "# 1. read video\n",
    "cap = cv2.VideoCapture(0)\n",
    "\n",
    "# now what is in cap, let's see\n",
    "print('cap:', cap)  # so basically cap is an object of video capture\n",
    "\n",
    "# as video is collection of frames\n",
    "while True:\n",
    "\n",
    "    status, frame = cap.read()    # status return boolean value True for read frame successfully, false for not\n",
    "\n",
    "    # 2. resize the frame\n",
    "    frame = cv2.resize(frame, (700, 500))\n",
    "\n",
    "    # 3. convert frames into grayscale\n",
    "    gray = cv2.cvtColor(frame, cv2.COLOR_BGR2GRAY)\n",
    "\n",
    "    cv2.imshow(\"frames\", frame)\n",
    "\n",
    "    # showing gray frames\n",
    "    cv2.imshow(\"gray frames\", gray)\n",
    "\n",
    "    # waits untill q pressed\n",
    "    k = cv2.waitKey(100)\n",
    "    if k == ord('q'):   # if not work the write k == ord('q') & 0xFF: this is mask\n",
    "        break\n",
    "\n",
    "cap.release() # relase the cap which capture the video\n",
    "cv2.destroyAllWindows()\n",
    "\n",
    "\n"
   ]
  },
  {
   "attachments": {},
   "cell_type": "markdown",
   "metadata": {},
   "source": [
    "****"
   ]
  },
  {
   "attachments": {},
   "cell_type": "markdown",
   "metadata": {},
   "source": [
    "**Separate B G R from webcam frame**"
   ]
  },
  {
   "cell_type": "code",
   "execution_count": null,
   "metadata": {},
   "outputs": [],
   "source": [
    "import cv2\n",
    "\n",
    "# 1. read video\n",
    "cap = cv2.VideoCapture(0)\n",
    "\n",
    "# now what is in cap, let's see\n",
    "print('cap:', cap)  # so basically cap is an object of video capture\n",
    "\n",
    "# as video is collection of frames\n",
    "while True:\n",
    "\n",
    "    status, frame = cap.read()    # status return boolean value True for read frame successfully, false for not\n",
    "\n",
    "    # make the copy of orignal frame\n",
    "    blueFrame = frame.copy()\n",
    "    greenFrame = frame.copy()\n",
    "    redFrame = frame.copy()\n",
    "\n",
    "    # 2. resize the frame\n",
    "    frame = cv2.resize(frame, (700, 500))\n",
    "\n",
    "    # 3. convert frames into grayscale\n",
    "    gray = cv2.cvtColor(frame, cv2.COLOR_BGR2GRAY)\n",
    "\n",
    "    # for blue make 1, and 2, green, and red 0\n",
    "    blueFrame[:,:,1] = 0\n",
    "    blueFrame[:,:,2] = 0\n",
    "\n",
    "    # for green make 0, and 2, blue, and red 0\n",
    "    greenFrame[:,:,0] = 0\n",
    "    greenFrame[:,:,2] = 0\n",
    "\n",
    "    # for blue make 0, and 1, blue, and green 0\n",
    "    redFrame[:,:,0] = 0\n",
    "    redFrame[:,:,1] = 0\n",
    "\n",
    "    cv2.imshow(\"Blue frames\", blueFrame)\n",
    "    cv2.imshow(\"Green frames\", greenFrame)\n",
    "    cv2.imshow(\"Red frames\", redFrame)\n",
    "\n",
    "    cv2.imshow(\"frames\", frame)\n",
    "\n",
    "    # showing gray frames\n",
    "    cv2.imshow(\"gray frames\", gray)\n",
    "\n",
    "    # waits untill q pressed\n",
    "    k = cv2.waitKey(100)\n",
    "    if k == ord('q'):   # if not work the write k == ord('q') & 0xFF: this is mask\n",
    "        break\n",
    "\n",
    "cap.release() # relase the cap which capture the video\n",
    "cv2.destroyAllWindows()\n",
    "\n",
    "\n"
   ]
  },
  {
   "attachments": {},
   "cell_type": "markdown",
   "metadata": {},
   "source": [
    "****"
   ]
  },
  {
   "attachments": {},
   "cell_type": "markdown",
   "metadata": {},
   "source": [
    "**How to draw shapes and lines on images**"
   ]
  },
  {
   "cell_type": "code",
   "execution_count": null,
   "metadata": {},
   "outputs": [],
   "source": [
    "import cv2\n",
    "import numpy as np\n",
    "\n",
    "# How to draw shapes and lines on images\n",
    "# we have to crate a matrix filled with zeros\n",
    "\n",
    "# img = np.zeros((512,512)) # this is gray scale image\n",
    "# print(img.shape)\n",
    "\n",
    "img = np.zeros((512,512,3),np.uint8) # defining three colors\n",
    "print(img.shape)\n",
    "\n",
    "# obtaining color\n",
    "img[:] = 255,0,0 # print blue\n",
    "cv2.imshow(\"blue\",img)\n",
    "\n",
    "img[:] = 0,255,0 # print green\n",
    "cv2.imshow(\"green\",img)\n",
    "\n",
    "img[:] = 0,0,255 # print red\n",
    "cv2.imshow(\"red\",img)\n",
    "\n",
    "img[200:300,10:500] = 0,255,0 # print green\n",
    "cv2.imshow(\"center red\",img)\n",
    "\n",
    "img[10:500,200:300] = 0,255,0 # print green\n",
    "cv2.imshow(\"center red\",img)\n",
    "\n",
    "img[250:260,10:500] = 255,255,255 # print green\n",
    "cv2.imshow(\"center red\",img)\n",
    "\n",
    "img[10:500,250:260] = 255,255,255 # print green\n",
    "cv2.imshow(\"center red\",img)\n",
    "\n",
    "cv2.line(img,(0,0),(512,512),(0,0,0),3)\n",
    "cv2.line(img,(0,512),(512,0),(0,0,0),3)\n",
    "cv2.imshow(\"new\",img)\n",
    "\n",
    "cv2.waitKey(0)\n",
    "cv2.destroyAllWindows()"
   ]
  },
  {
   "attachments": {},
   "cell_type": "markdown",
   "metadata": {},
   "source": [
    "****"
   ]
  },
  {
   "attachments": {},
   "cell_type": "markdown",
   "metadata": {},
   "source": [
    "**Get Pixel value Using Cursor**"
   ]
  },
  {
   "cell_type": "code",
   "execution_count": null,
   "metadata": {},
   "outputs": [],
   "source": [
    "import cv2\n",
    "import numpy as np\n",
    "\n",
    "path = \"C:\\\\Users\\\\hp\\\\Google Drive\\\\Fiverr Work\\\\2022\\\\33. Computer Vision Course\\\\pictures\"\n",
    "\n",
    "def draw(event, x,y,flag,param): # x,y for event call\n",
    "    if event == cv2.EVENT_LBUTTONDBLCLK:\n",
    "        font = cv2.FONT_HERSHEY_PLAIN\n",
    "        text = str(x) + \",\" + str(y)\n",
    "\n",
    "        cv2.putText(image, text, (x,y), font, 2, (255,0,255), 2)\n",
    "\n",
    "# load image\n",
    "image = cv2.imread(path+\"\\\\car.png\")\n",
    "\n",
    "# create window and set mouse callback\n",
    "cv2.namedWindow('image')\n",
    "cv2.setMouseCallback('image', draw)\n",
    "while True:\n",
    "# show image\n",
    "    cv2.imshow('image', image)\n",
    "    key = cv2.waitKey(1)\n",
    "    if key == ord(\"q\"):\n",
    "        break\n",
    "cv2.destroyAllWindows()\n",
    "\n"
   ]
  },
  {
   "attachments": {},
   "cell_type": "markdown",
   "metadata": {},
   "source": [
    "*****"
   ]
  },
  {
   "attachments": {
    "image-2.png": {
     "image/png": "[encoded data removed]"
    },
    "image.png": {
     "image/png": "[encoded data removed]"
    }
   },
   "cell_type": "markdown",
   "metadata": {},
   "source": [
    "**Gaussian FIlter (Blur an Image)**\n",
    "\n",
    "\tA Gaussian Filter is a low pass filter used for reducing noise (high frequency components) and blurring regions of an image. The filter is implemented as an Odd sized Symmetric Kernel (DIP version of a Matrix) which is passed through each pixel of the Region of Interest to get the desired effect.\n",
    "![image.png](attachment:image.png)\n",
    "\n",
    "\tSrc: input image\n",
    "\tKsize: Gaussian Kernel Size. [height width]. height and width should be odd and can have different values. If ksize is set to [0 0], then ksize is computed from sigma values.\n",
    "\t0: boarder type\n",
    "![image.png](attachment:image-2.png)"
   ]
  },
  {
   "attachments": {},
   "cell_type": "markdown",
   "metadata": {},
   "source": [
    "**Gaussian, Canny, Dilation, Erosion**"
   ]
  },
  {
   "cell_type": "code",
   "execution_count": null,
   "metadata": {},
   "outputs": [],
   "source": [
    "\n",
    "\n",
    "import cv2\n",
    "import numpy as np\n",
    "\n",
    "img = cv2.imread('onion.PNG')\n",
    "cv2.imshow(\"original Image\", img)\n",
    "\n",
    "kernel = np.ones((5,5),np.uint8)\n",
    "\n",
    "# convert to gray\n",
    "img_gray = cv2.cvtColor(img,cv2.COLOR_BGR2GRAY)\n",
    "\n",
    "cv2.imshow('Gray Image',img_gray)\n",
    "\n",
    "\n",
    "# convert to blur\n",
    "img_blur = cv2.GaussianBlur(img_gray,(7,7),0)\n",
    "cv2.imshow('Blur Image', img_blur)\n",
    "\n",
    "\n",
    "# finding edges using canny functions\n",
    "img_canny = cv2.Canny(img,200,200)\n",
    "cv2.imshow('Canny Image', img_canny)\n",
    "\n",
    "# Image dilation:  increase the thickness of edges\n",
    "img_dilation = cv2.dilate(img_canny,kernel,iterations=1)\n",
    "cv2.imshow('Dilation Image',img_dilation)\n",
    "\n",
    "\n",
    "# Image Errosion\n",
    "img_eroded = cv2.erode(img_dilation,kernel,iterations=1)\n",
    "cv2.imshow('Eroded Image',img_eroded)\n",
    "cv2.waitKey(0)\n",
    "cv2.destroyAllWindows()\n"
   ]
  },
  {
   "attachments": {},
   "cell_type": "markdown",
   "metadata": {},
   "source": [
    "****"
   ]
  },
  {
   "attachments": {},
   "cell_type": "markdown",
   "metadata": {},
   "source": [
    "**Find Types of an Image Using PIL Library**\n"
   ]
  },
  {
   "attachments": {},
   "cell_type": "markdown",
   "metadata": {},
   "source": [
    "\tPIL.Image.open(fp, mode='r', formats=None)\n",
    "\t\n",
    "\t\tOpens and identifies the given image file.\n",
    "\t\tThis is a lazy operation; this function identifies the file, but the file remains open and the actual image data is not read from the file.\n",
    "\n",
    "\tPARAMETERS:\n",
    "\t\t\n",
    "\t\tfp – A filename (string), pathlib.Path object or a file object. The file object must implement file.read, file.seek, and file.tell methods, and be opened in binary mode.\n",
    "\t\t\t\n",
    "\t\tmode – The mode. If given, this argument must be “r”.\n",
    "\n",
    "\n",
    "Link: https://pillow.readthedocs.io/en/stable/handbook/tutorial.\n",
    "\n",
    "* **Modes**\n",
    "\n",
    "The mode of an image is a string which defines the type and depth of a pixel in the image. Each pixel uses the full range of the bit depth. So a 1-bit pixel has a range of 0-1, an 8-bit pixel has a range of 0-255 and so on. The current release supports the following standard modes:\n",
    "\n",
    "\t• 1 (1-bit pixels, black and white, stored with one pixel per byte)\n",
    "\t• L (8-bit pixels, black and white)\n",
    "\t• P (8-bit pixels, mapped to any other mode using a color palette)\n",
    "\t• RGB (3x8-bit pixels, true color)\n",
    "\t• RGBA (4x8-bit pixels, true color with transparency mask)\n",
    "\t• CMYK (4x8-bit pixels, color separation)\n",
    "\t• YCbCr (3x8-bit pixels, color video format)\n",
    "\t\t○ Note that this refers to the JPEG, and not the ITU-R BT.2020, standard\n",
    "\t• LAB (3x8-bit pixels, the L*a*b color space)\n",
    "\t• HSV (3x8-bit pixels, Hue, Saturation, Value color space)\n",
    "\t• I (32-bit signed integer pixels)\n",
    "\t• F (32-bit floating point pixels)"
   ]
  },
  {
   "cell_type": "code",
   "execution_count": null,
   "metadata": {},
   "outputs": [],
   "source": [
    "from PIL import Image\n",
    "import cv2 as cv\n",
    "\n",
    "def findTypeOfImage(image):\n",
    "\n",
    "    if image.mode == \"1\":\n",
    "        imageType = \"1-bit pixels, black and white, stored with one pixel per byte\"\n",
    "    elif image.mode == \"L\":\n",
    "        imageType = \"8-bit pixels, black and white\"\n",
    "    elif image.mode == \"P\":\n",
    "        imageType = \"8-bit pixels, mapped to any other mode using a color palette\"\n",
    "    elif image.mode == \"RGB\":\n",
    "        imageType = \"3x8-bit pixels, true color\"\n",
    "    elif image.mode == \"CMYK\":\n",
    "        imageType = \"4x8-bit pixels, color separation\"\n",
    "    elif image.mode == \"YCbCr\":\n",
    "        imageType = \"3x8-bit pixels, color video format\"\n",
    "    elif image.mode == \"LAB\":\n",
    "        imageType = \"3x8-bit pixels, the L*a*b color space\"\n",
    "    elif image.mode == \"HSV\":\n",
    "        imageType =\"3x8-bit pixels, Hue, Saturation, Value color space\"\n",
    "    elif image.mode == \"I\":\n",
    "        imageType = \"32-bit signed integer pixels\"\n",
    "    elif image.mode == \"F\":\n",
    "        imageType = \"32-bit floating point pixels\"\n",
    "\n",
    "    return imageType\n"
   ]
  },
  {
   "cell_type": "code",
   "execution_count": null,
   "metadata": {},
   "outputs": [],
   "source": [
    "path =\"C:\\\\Users\\\\hp\\\\Google Drive\\\\Fiverr Work\\\\2022\\\\15. Teaching OpenCV to Client\\\\Pics+scripts\\\\Pictures\"\n",
    "\n",
    "### Part 01 open the images icons01.png ....................#####\n",
    "\n",
    "img1 = Image.open(path + \"\\\\icons01.png\")\n",
    "img2 = Image.open(path + \"\\\\icons02.png\")\n",
    "\n",
    "img1Type = findTypeOfImage(img1)\n",
    "img2Type = findTypeOfImage(img2)\n",
    "\n",
    "print(f\"The Type of icons01.png is \"+img1Type)\n",
    "print(f\"The Type of icons02.png is \" +img2Type)\n"
   ]
  },
  {
   "attachments": {},
   "cell_type": "markdown",
   "metadata": {},
   "source": [
    "**Find RGB Values**"
   ]
  },
  {
   "cell_type": "code",
   "execution_count": null,
   "metadata": {},
   "outputs": [],
   "source": [
    "def findRGBValuesByPIL(image, x, y):\n",
    "    img = Image.open(image).convert(\"RGB\")\n",
    "    r, g, b = img.getpixel((x, y))\n",
    "\n",
    "    value = (r, g, b)\n",
    "\n",
    "    return value"
   ]
  },
  {
   "cell_type": "code",
   "execution_count": null,
   "metadata": {},
   "outputs": [],
   "source": [
    "def findRGBValuesByOpenCV(image):\n",
    "    blue = image[:,:,0]\n",
    "    green = image[:,:,1]\n",
    "    red = image[:,:,2]\n",
    "\n",
    "    print(f\"Blue color values: {blue} \\nGreen Color Values: {green}\\nRed Color Values: {red}\")\n"
   ]
  },
  {
   "cell_type": "code",
   "execution_count": null,
   "metadata": {},
   "outputs": [],
   "source": [
    "img3 = cv.imread(path + \"\\\\rgb01.png\")\n",
    "img03 = path + \"\\\\rgb01.png\"\n",
    "\n",
    "img4 = cv.imread(path + \"\\\\rgb02.png\")\n",
    "img04 = path + \"\\\\rgb02.png\"\n",
    "\n",
    "findRGBValuesByOpenCV(img3)\n",
    "findRGBValuesByOpenCV(img4)\n",
    "\n",
    "rgbValue = findRGBValuesByPIL(img03, 10, 10)\n",
    "print(rgbValue)\n",
    "\n",
    "cv.imshow(\"imgae3\", img3)\n",
    "cv.imshow(\"image4\", img4)\n",
    "cv.waitKey()\n",
    "cv.destroyAllWindows()"
   ]
  },
  {
   "attachments": {},
   "cell_type": "markdown",
   "metadata": {},
   "source": [
    "*****"
   ]
  },
  {
   "attachments": {},
   "cell_type": "markdown",
   "metadata": {},
   "source": [
    "**Find Resolution, dimension, class(data type), Number of channel, Image Type**"
   ]
  },
  {
   "cell_type": "code",
   "execution_count": null,
   "metadata": {},
   "outputs": [],
   "source": [
    "import tkinter as tk\n",
    "from PIL import Image\n",
    "import numpy as np\n",
    "import cv2 as cv\n",
    "import os\n",
    "\n",
    "root = tk.Tk()\n",
    "\n",
    "def findResolutionOfImage(image):\n",
    "\n",
    "    # Image resolution is typically described in PPI, which refers to \n",
    "    # how many pixels are displayed per inch of an image\n",
    "\n",
    "    # Screen Dimensions from Monitor (or Display) Control Panel\t= 1024x768 pixels\t\n",
    "    # Viewable Width of Monitor\tScreen Resolution = 12.5 inches\t\n",
    "    # Screen Resolution = 1024/12.5 = 82 ppi\n",
    "    \n",
    "    # find the width of your monitor or laptop \n",
    "    # it is in mm\n",
    "    width_mm = root.winfo_screenmmwidth()\n",
    "    # convert it to inches, To convert mm to inches, you must multiply the unit by 0.03937\n",
    "    # because 1 mm = 0.03937 inches\n",
    "    width_in = width_mm * 0.03937\n",
    "\n",
    "    height = image.shape[0]\n",
    "    width = image.shape[1]\n",
    "\n",
    "    if height > width:\n",
    "        resolution = round(height / width_in)\n",
    "    else:\n",
    "        resolution = round(width / width_in)\n",
    "  \n",
    "    return str(resolution) + \" ppi\""
   ]
  },
  {
   "cell_type": "code",
   "execution_count": null,
   "metadata": {},
   "outputs": [],
   "source": [
    "def completeInformation(image, img, name):\n",
    "\n",
    "    resolution_img = findResolutionOfImage(image)\n",
    "    dimension_img = image.shape\n",
    "\n",
    "    height_img = dimension_img[0]\n",
    "    width_img = dimension_img[1]\n",
    "\n",
    "    channels_img = dimension_img[2]\n",
    "\n",
    "    Type_img = findTypeOfImage(img)\n",
    "    dataType_img = image.dtype\n",
    "\n",
    "\n",
    "    print(f\"\\nThe resoltuion of {name} is \" + resolution_img)\n",
    "    print(f\"The dimension {name} is {dimension_img}, height: {height_img}, width: {width_img}\")\n",
    "    print(f\"Channels: {channels_img}\\nData Type: {dataType_img}\\nType: {Type_img}\\n\")\n",
    "\n"
   ]
  },
  {
   "cell_type": "code",
   "execution_count": null,
   "metadata": {},
   "outputs": [],
   "source": [
    "path =\"C:\\\\Users\\\\hp\\\\Google Drive\\\\Fiverr Work\\\\2022\\\\15. Teaching OpenCV to Client\\\\Pics+scripts\\\\Pictures\"\n",
    "\n",
    "img_1 = cv.imread(path + \"\\\\flower.png\")\n",
    "img1 = Image.open(path + \"\\\\flower.png\")\n",
    "image_1_name = os.path.basename(path + \"\\\\flower.png\")\n",
    "\n",
    "img_2 = cv.imread(path + \"\\\\eagle.png\")\n",
    "img2 = Image.open(path + \"\\\\eagle.png\")\n",
    "image_2_name = os.path.basename(path + \"\\\\eagle.png\")\n",
    "\n",
    "completeInformation(img_1, img1, image_1_name)\n",
    "\n",
    "completeInformation(img_2, img2, image_2_name)\n"
   ]
  },
  {
   "cell_type": "code",
   "execution_count": null,
   "metadata": {},
   "outputs": [],
   "source": []
  }
 ],
 "metadata": {
  "kernelspec": {
   "display_name": "Python 3",
   "language": "python",
   "name": "python3"
  },
  "language_info": {
   "codemirror_mode": {
    "name": "ipython",
    "version": 3
   },
   "file_extension": ".py",
   "mimetype": "text/x-python",
   "name": "python",
   "nbconvert_exporter": "python",
   "pygments_lexer": "ipython3",
   "version": "3.9.1"
  },
  "orig_nbformat": 4,
  "vscode": {
   "interpreter": {
    "hash": "b671c20432fcd147198c92e7f072af9e705f087eb990bee22b07f08caab9f630"
   }
  }
 },
 "nbformat": 4,
 "nbformat_minor": 2
}
