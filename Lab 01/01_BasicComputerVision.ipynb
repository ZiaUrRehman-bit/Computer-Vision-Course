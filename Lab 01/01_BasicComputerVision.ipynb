{
 "cells": [
  {
   "attachments": {},
   "cell_type": "markdown",
   "metadata": {},
   "source": [
    "## **<center><font style=\"color:rgb(100,109,254)\">Digital Image Processing Basics</font> </center>**\n",
    "### **<center><font style=\"color:rgb(100,109,254)\">Lab 01</font> </center>**\n"
   ]
  },
  {
   "attachments": {},
   "cell_type": "markdown",
   "metadata": {},
   "source": [
    "### **<font style=\"color:rgb(255,255,0)\">01. Basics of OpenCV</font>**\n",
    "\n",
    "**OpenCV: Open Source Computer Vision library to implement image processing**\n",
    "\n",
    "In openCV we use arrays to store an image and Numpy library is used to handle arrays, image always store in 2D array\n",
    "\n",
    "**Images types**\n",
    "    \n",
    "Gray scale Image: Single channel\n",
    "\n",
    "True Color Image: RGB, BGR in Python, 3 channel\n",
    "\n",
    "Binary Image: 1 bit, 0 or 1 black or white"
   ]
  },
  {
   "attachments": {},
   "cell_type": "markdown",
   "metadata": {},
   "source": [
    "**Functions for Images in Python**"
   ]
  },
  {
   "cell_type": "code",
   "execution_count": 2,
   "metadata": {},
   "outputs": [
    {
     "name": "stdout",
     "output_type": "stream",
     "text": [
      "4.5.4\n"
     ]
    }
   ],
   "source": [
    "import cv2    # OpenCV used as cv2 in python\n",
    "print(cv2.__version__)"
   ]
  },
  {
   "attachments": {},
   "cell_type": "markdown",
   "metadata": {},
   "source": [
    "**Read an image and display**"
   ]
  },
  {
   "cell_type": "code",
   "execution_count": 3,
   "metadata": {},
   "outputs": [],
   "source": [
    "path = \"C:\\\\Users\\\\hp\\\\Google Drive\\\\Fiverr Work\\\\2022\\\\33. Computer Vision Course\\\\pictures\"\n"
   ]
  },
  {
   "cell_type": "code",
   "execution_count": 6,
   "metadata": {},
   "outputs": [],
   "source": [
    "img = cv2.imread(path+\"\\\\coloredChips.png\")  # took path and name of image as an argument"
   ]
  },
  {
   "cell_type": "code",
   "execution_count": 7,
   "metadata": {},
   "outputs": [
    {
     "name": "stdout",
     "output_type": "stream",
     "text": [
      "[[[157 182 197]\n",
      "  [157 180 195]\n",
      "  [155 178 192]\n",
      "  ...\n",
      "  [207 230 230]\n",
      "  [204 228 229]\n",
      "  [209 232 234]]\n",
      "\n",
      " [[150 171 192]\n",
      "  [149 171 189]\n",
      "  [149 173 187]\n",
      "  ...\n",
      "  [208 232 228]\n",
      "  [204 229 229]\n",
      "  [206 231 232]]\n",
      "\n",
      " [[146 165 185]\n",
      "  [148 168 186]\n",
      "  [149 172 187]\n",
      "  ...\n",
      "  [202 229 228]\n",
      "  [201 226 227]\n",
      "  [201 226 226]]\n",
      "\n",
      " ...\n",
      "\n",
      " [[143 163 174]\n",
      "  [139 161 174]\n",
      "  [135 159 171]\n",
      "  ...\n",
      "  [193 219 226]\n",
      "  [197 224 231]\n",
      "  [201 228 235]]\n",
      "\n",
      " [[141 161 169]\n",
      "  [141 162 171]\n",
      "  [137 159 169]\n",
      "  ...\n",
      "  [201 224 232]\n",
      "  [200 222 230]\n",
      "  [201 224 232]]\n",
      "\n",
      " [[144 162 169]\n",
      "  [138 157 165]\n",
      "  [142 160 170]\n",
      "  ...\n",
      "  [198 219 227]\n",
      "  [196 217 225]\n",
      "  [202 224 232]]]\n"
     ]
    }
   ],
   "source": [
    "print(img)"
   ]
  },
  {
   "cell_type": "code",
   "execution_count": 12,
   "metadata": {},
   "outputs": [],
   "source": [
    "cv2.imshow(\"Image\", img)\n",
    "cv2.waitKey(0)\n",
    "cv2.destroyAllWindows()"
   ]
  },
  {
   "attachments": {},
   "cell_type": "markdown",
   "metadata": {},
   "source": [
    "**Resize image**"
   ]
  },
  {
   "cell_type": "code",
   "execution_count": 13,
   "metadata": {},
   "outputs": [],
   "source": [
    "img_new = cv2.resize(img, (200, 200))"
   ]
  },
  {
   "cell_type": "code",
   "execution_count": 14,
   "metadata": {},
   "outputs": [],
   "source": [
    "cv2.imshow(\"Image\", img)\n",
    "cv2.imshow(\"NewImage\", img_new)\n",
    "cv2.waitKey(0)\n",
    "cv2.destroyAllWindows()"
   ]
  },
  {
   "attachments": {},
   "cell_type": "markdown",
   "metadata": {},
   "source": [
    "**Read image in grayscale**"
   ]
  },
  {
   "cell_type": "code",
   "execution_count": 15,
   "metadata": {},
   "outputs": [],
   "source": [
    "img1 = cv2.imread(path +\"\\\\coloredChips.png\", 0)  # 0 means in grayscale"
   ]
  },
  {
   "cell_type": "code",
   "execution_count": 18,
   "metadata": {},
   "outputs": [],
   "source": [
    "cv2.imshow(\"Image1\", img1)\n",
    "cv2.waitKey(0)\n",
    "cv2.destroyAllWindows()"
   ]
  },
  {
   "cell_type": "code",
   "execution_count": 17,
   "metadata": {},
   "outputs": [],
   "source": []
  },
  {
   "cell_type": "code",
   "execution_count": null,
   "metadata": {},
   "outputs": [],
   "source": []
  }
 ],
 "metadata": {
  "kernelspec": {
   "display_name": "Python 3",
   "language": "python",
   "name": "python3"
  },
  "language_info": {
   "codemirror_mode": {
    "name": "ipython",
    "version": 3
   },
   "file_extension": ".py",
   "mimetype": "text/x-python",
   "name": "python",
   "nbconvert_exporter": "python",
   "pygments_lexer": "ipython3",
   "version": "3.9.1"
  },
  "orig_nbformat": 4,
  "vscode": {
   "interpreter": {
    "hash": "b671c20432fcd147198c92e7f072af9e705f087eb990bee22b07f08caab9f630"
   }
  }
 },
 "nbformat": 4,
 "nbformat_minor": 2
}
