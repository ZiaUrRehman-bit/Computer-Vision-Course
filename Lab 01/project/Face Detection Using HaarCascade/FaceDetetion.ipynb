{
 "cells": [
  {
   "attachments": {},
   "cell_type": "markdown",
   "metadata": {},
   "source": [
    "## **<center><font style=\"color:rgb(100,109,254)\">Face Detection Using Haarcascade</font> </center>**\n",
    "### **<center><font style=\"color:rgb(100,109,254)\">Computer Vision</font> </center>**"
   ]
  },
  {
   "cell_type": "code",
   "execution_count": 1,
   "metadata": {},
   "outputs": [
    {
     "name": "stdout",
     "output_type": "stream",
     "text": [
      "Code Completed!\n"
     ]
    }
   ],
   "source": [
    "import cv2\n",
    "from random import randrange\n",
    "\n",
    "# Load some pre trained data on face frontal from opencv (haar cascade algorithm)\n",
    "trained_face_data = cv2.CascadeClassifier('haarcascade_frontalface_default.xml')\n",
    "\n",
    "# Choose an image to detect faces in\n",
    "# img = cv2.imread('RDJ.png')\n",
    "# img = cv2.imread('multiple_images.png')\n",
    "img = cv2.imread('mens_multple_face_image.png')\n",
    "\n",
    "# Convert image to grayscale\n",
    "# first argument is source of img, and second one is in which you want to convert\n",
    "grayscaled_img = cv2.cvtColor(img, cv2.COLOR_BGR2GRAY) # in python RGB image is actually BGR\n",
    "\n",
    "# Detect Faces\n",
    "face_coordinates = trained_face_data.detectMultiScale(grayscaled_img)\n",
    "\n",
    "# fetching the coordinates\n",
    "# (x, y, w, h) = face_coordinates[3]\n",
    "\n",
    "# Draw rectangle around the faces\n",
    "# ( (371, 114) is x and y and (356, 356) is the size of rectangle\n",
    "# (0, 255, 0) rectangle of green color\n",
    "# 2 or 4 is thickness\n",
    "# cv2.rectangle(img, (x, y), (x+w, y+h), (0, 255, 0), 4)\n",
    "\n",
    "# multiple face detection on single image\n",
    "for (x, y, w, h) in face_coordinates:\n",
    "    # cv2.rectangle(img, (x, y), (x+w, y+h), (0, 255, 0), 2)\n",
    "    cv2.rectangle(img, (x, y), (x + w, y + h), (randrange(256), randrange(256), randrange(256)), 2) # varying the color in range 0 - 256\n",
    "\n",
    "\n",
    "\n",
    "# print(face_coordinates)\n",
    "\n",
    "# Show image\n",
    "cv2.imshow('Robert Downey jr', img)\n",
    "cv2.waitKey()  # pauses the execution of your program and wait for any key to press\n",
    "\n",
    "print(\"Code Completed!\")\n",
    "\n",
    "cv2.destroyAllWindows()"
   ]
  },
  {
   "cell_type": "code",
   "execution_count": 2,
   "metadata": {},
   "outputs": [],
   "source": []
  },
  {
   "cell_type": "code",
   "execution_count": null,
   "metadata": {},
   "outputs": [],
   "source": []
  }
 ],
 "metadata": {
  "kernelspec": {
   "display_name": "Python 3",
   "language": "python",
   "name": "python3"
  },
  "language_info": {
   "codemirror_mode": {
    "name": "ipython",
    "version": 3
   },
   "file_extension": ".py",
   "mimetype": "text/x-python",
   "name": "python",
   "nbconvert_exporter": "python",
   "pygments_lexer": "ipython3",
   "version": "3.9.1"
  },
  "orig_nbformat": 4,
  "vscode": {
   "interpreter": {
    "hash": "b671c20432fcd147198c92e7f072af9e705f087eb990bee22b07f08caab9f630"
   }
  }
 },
 "nbformat": 4,
 "nbformat_minor": 2
}
