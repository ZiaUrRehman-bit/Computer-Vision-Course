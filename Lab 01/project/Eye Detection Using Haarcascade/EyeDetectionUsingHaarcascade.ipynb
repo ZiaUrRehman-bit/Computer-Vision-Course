{
 "cells": [
  {
   "attachments": {},
   "cell_type": "markdown",
   "metadata": {},
   "source": [
    "## **<center><font style=\"color:rgb(100,109,254)\">Eye Detection Using Haarcascade</font> </center>**\n",
    "### **<center><font style=\"color:rgb(100,109,254)\">Computer Vision</font> </center>**"
   ]
  },
  {
   "cell_type": "code",
   "execution_count": 1,
   "metadata": {},
   "outputs": [
    {
     "name": "stdout",
     "output_type": "stream",
     "text": [
      "Code Completed!\n"
     ]
    }
   ],
   "source": [
    "import cv2\n",
    "from random import randrange\n",
    "# Load some pre trained data on face frontal from opencv (haar cascade algorithm)\n",
    "trained_eye_data = cv2.CascadeClassifier('haarcascade_eye.xml')\n",
    "\n",
    "# Capture video from webcam\n",
    "# 0 for default webcam\n",
    "# instead of 0 you can insert the name of any video in which you want to detect faces\n",
    "webcam = cv2.VideoCapture(0)\n",
    "\n",
    "# Iterate forever for frames as videos contain frames\n",
    "while True:\n",
    "\n",
    "    # Read the current frame\n",
    "    # read() returns two tuple first just boolean true or false and second the actual image from the webcam\n",
    "    # frame is actually image\n",
    "    successful_frame_read, frame = webcam.read()\n",
    "\n",
    "    # Must convert to grayscale\n",
    "    grayscaled_img = cv2.cvtColor(frame, cv2.COLOR_BGR2GRAY)\n",
    "\n",
    "    # Detect Faces\n",
    "    eye_coordinates = trained_eye_data.detectMultiScale(grayscaled_img)\n",
    "\n",
    "    # Draw a rectangle\n",
    "    for (x, y, w, h) in eye_coordinates:\n",
    "        # cv2.rectangle(frame, (x, y), (x+w, y+h), (0, 255, 0), 2)\n",
    "        cv2.rectangle(frame, (x, y), (x + w, y + h), (randrange(256), randrange(256), randrange(256)), 3, 2)\n",
    "        cv2.circle(frame, (x + w, y), 10, (randrange(256), randrange(256), randrange(256)))\n",
    "        cv2.putText(frame, \"eye\", (x + w + 10, y+4), cv2.FONT_HERSHEY_SIMPLEX, 0.8, (0, 255, 255))\n",
    "\n",
    "    cv2.imshow(\"Image from webcam\", frame)\n",
    "    # frame is updated after 1 mili second\n",
    "    key = cv2.waitKey(1)\n",
    "\n",
    "    # Stop if Q or q pressed\n",
    "    if key == 81 or key == 113:\n",
    "        break\n",
    "\n",
    "# Release the Video capture object\n",
    "webcam.release()\n",
    "cv2.destroyAllWindows()\n",
    "\n",
    "print(\"Code Completed!\")\n"
   ]
  },
  {
   "cell_type": "code",
   "execution_count": 3,
   "metadata": {},
   "outputs": [],
   "source": [
    "webcam.release()"
   ]
  },
  {
   "cell_type": "code",
   "execution_count": null,
   "metadata": {},
   "outputs": [],
   "source": []
  }
 ],
 "metadata": {
  "kernelspec": {
   "display_name": "Python 3",
   "language": "python",
   "name": "python3"
  },
  "language_info": {
   "codemirror_mode": {
    "name": "ipython",
    "version": 3
   },
   "file_extension": ".py",
   "mimetype": "text/x-python",
   "name": "python",
   "nbconvert_exporter": "python",
   "pygments_lexer": "ipython3",
   "version": "3.9.1"
  },
  "orig_nbformat": 4,
  "vscode": {
   "interpreter": {
    "hash": "b671c20432fcd147198c92e7f072af9e705f087eb990bee22b07f08caab9f630"
   }
  }
 },
 "nbformat": 4,
 "nbformat_minor": 2
}
